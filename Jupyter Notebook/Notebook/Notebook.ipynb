{
 "cells": [
  {
   "cell_type": "markdown",
   "metadata": {},
   "source": [
    "<img src='./Picture/Jupyter_Logo.jpg',width=350>\n",
    "# Jupyter Notebook 基本使用技巧\n",
    "* 将cell转换为Markdown状态：<span style=\"color:blue\">M\n",
    "* 将cell转换为代码状态：<span style=\"color:blue\">Y\n",
    "* 向上增加空白cell：<span style=\"color:blue\">A\n",
    "* 向下增加空白cell：<span style=\"color:blue\">B\n",
    "* 删除本cell：<span style=\"color:blue\">DD\n",
    "* 剪切本cell：<span style=\"color:blue\">X\n",
    "* 粘贴本cell：<span style=\"color:blue\">V\n",
    "* 显示/关闭行号：<span style=\"color:blue\">L\n",
    "* 恢复删除的cell：<span style=\"color:blue\">Z\n",
    "* 选中多个cell：<span style=\"color:blue\">shift + 单击鼠标\n",
    "* 将选中的cell合并：<span style=\"color:blue\">shift + M\n",
    "* 选中的内容整体左移：<span style=\"color:blue\">ctrl + [\n",
    "* 选中的内容整体右移：<span style=\"color:blue\">ctrl + ]\n",
    "* 运行cell：<span style=\"color:blue\">ctrl + enter\n",
    "* 运行cell，并将光标移动到下一个cell：<span style=\"color:blue\">shift + enter"
   ]
  },
  {
   "cell_type": "markdown",
   "metadata": {},
   "source": [
    "<img src='./Picture/Github_Logo.jpg',width=800>\n",
    "* **Github** 是版本控制和协同合作的利器，让人爱不释手。使用方式如下：\n",
    "  \n",
    " 1. 安装Github for Windows，并注册账户\n",
    " 2. 基本命令\n",
    "     \n",
    "|命令|描述|\n",
    "|:---|:---|\n",
    "| git init | 在本地建一个新的repository|\n",
    "| git remote add origin https://github.com/cherisegege/Notebook.git | 给远程主机一个简短的映射名为origin|\n",
    "| git clone https://github.com/cherisegege/Notebook.git | 克隆远程主机仓库到本地|\n",
    "| git commit -m 'commit log' | 提交改动到本地|\n",
    "| git push origin master | 推送改动到远端（Github）|\n",
    "| git checkout -b | 做一个分支branch|\n",
    "| git pull <远程主机名> <远程分支名>:<本地分支名> | 获取并且合并远端的版本（fetch + merge）|\n",
    "| git merge | 合并其他版本，遇到冲突怎么办？|\n",
    "| git status | 查看本地状态|\n",
    "| git log | 查看log记录|"
   ]
  },
  {
   "cell_type": "code",
   "execution_count": null,
   "metadata": {
    "collapsed": true
   },
   "outputs": [],
   "source": []
  }
 ],
 "metadata": {
  "kernelspec": {
   "display_name": "Python 3",
   "language": "python",
   "name": "python3"
  },
  "language_info": {
   "codemirror_mode": {
    "name": "ipython",
    "version": 3
   },
   "file_extension": ".py",
   "mimetype": "text/x-python",
   "name": "python",
   "nbconvert_exporter": "python",
   "pygments_lexer": "ipython3",
   "version": "3.6.3"
  }
 },
 "nbformat": 4,
 "nbformat_minor": 2
}
